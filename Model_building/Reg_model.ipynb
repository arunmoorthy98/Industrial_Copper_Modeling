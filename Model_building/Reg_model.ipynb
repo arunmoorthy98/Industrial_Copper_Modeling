{
 "cells": [
  {
   "cell_type": "markdown",
   "metadata": {},
   "source": [
    "#### *Importing Libraries*"
   ]
  },
  {
   "cell_type": "code",
   "execution_count": 1,
   "metadata": {},
   "outputs": [],
   "source": [
    "import pandas as pd\n",
    "import numpy as np\n",
    "import pickle\n",
    "from sklearn.model_selection import train_test_split\n",
    "from sklearn.compose import ColumnTransformer\n",
    "from sklearn.pipeline import Pipeline\n",
    "from sklearn.preprocessing import OneHotEncoder \n",
    "from sklearn.preprocessing import OrdinalEncoder\n",
    "from sklearn.ensemble import RandomForestRegressor\n",
    "from sklearn.metrics import mean_squared_error, r2_score\n",
    "from xgboost import XGBRegressor\n",
    "from sklearn.ensemble import HistGradientBoostingRegressor\n",
    "from sklearn.ensemble import ExtraTreesRegressor"
   ]
  },
  {
   "cell_type": "markdown",
   "metadata": {},
   "source": [
    "##### *Loading Data*"
   ]
  },
  {
   "cell_type": "code",
   "execution_count": null,
   "metadata": {},
   "outputs": [],
   "source": [
    "model_df = pd.read_csv(r'Copper.csv')"
   ]
  },
  {
   "cell_type": "markdown",
   "metadata": {},
   "source": [
    "##### *Model Building*"
   ]
  },
  {
   "cell_type": "markdown",
   "metadata": {},
   "source": [
    "##### *Querying Won and Lost*"
   ]
  },
  {
   "cell_type": "code",
   "execution_count": null,
   "metadata": {},
   "outputs": [
    {
     "name": "stdout",
     "output_type": "stream",
     "text": [
      "Won     59278\n",
      "Lost     8741\n",
      "Name: status, dtype: int64\n"
     ]
    }
   ],
   "source": [
    "# Win/Lost\n",
    "query_df = model_df.query(\"status == 'Won' or status == 'Lost'\")\n",
    "print(query_df['status'].value_counts())"
   ]
  },
  {
   "cell_type": "code",
   "execution_count": null,
   "metadata": {},
   "outputs": [],
   "source": [
    "query_df['item_type']"
   ]
  },
  {
   "cell_type": "markdown",
   "metadata": {},
   "source": [
    "##### Reducing Skewness"
   ]
  },
  {
   "cell_type": "code",
   "execution_count": 6,
   "metadata": {},
   "outputs": [],
   "source": [
    "skew_df = query_df.drop('material_ref',axis = 1)"
   ]
  },
  {
   "cell_type": "code",
   "execution_count": 7,
   "metadata": {},
   "outputs": [],
   "source": [
    "skew_df = skew_df.query(\"thickness > 0 and quantity_tons > 0\")"
   ]
  },
  {
   "cell_type": "code",
   "execution_count": 8,
   "metadata": {},
   "outputs": [
    {
     "name": "stdout",
     "output_type": "stream",
     "text": [
      "34.70559093594388\n",
      "0.5234370646044206\n",
      "149.540788051666\n",
      "30.275586829290734\n"
     ]
    }
   ],
   "source": [
    "# Skewness\n",
    "\n",
    "print(skew_df['thickness'].skew())\n",
    "print(skew_df['width'].skew())\n",
    "print(skew_df['selling_price'].skew())\n",
    "print(skew_df['quantity_tons'].skew())"
   ]
  },
  {
   "cell_type": "markdown",
   "metadata": {},
   "source": [
    "##### Log Transformation"
   ]
  },
  {
   "cell_type": "code",
   "execution_count": 9,
   "metadata": {},
   "outputs": [],
   "source": [
    "skew_df['thickness'] = np.log(skew_df['thickness'])\n",
    "skew_df['width'] = np.log(skew_df['width'])\n",
    "skew_df['quantity_tons'] = np.log(skew_df['quantity_tons'])\n",
    "skew_df['selling_price'] = np.log(skew_df['selling_price'])"
   ]
  },
  {
   "cell_type": "code",
   "execution_count": 10,
   "metadata": {},
   "outputs": [
    {
     "name": "stdout",
     "output_type": "stream",
     "text": [
      "0.42781018418508565\n",
      "-1.9383285820075098\n",
      "0.09219786229335214\n",
      "0.21051434919918785\n"
     ]
    }
   ],
   "source": [
    "# Skewness\n",
    "\n",
    "print(skew_df['thickness'].skew())\n",
    "print(skew_df['width'].skew())\n",
    "print(skew_df['selling_price'].skew())\n",
    "print(skew_df['quantity_tons'].skew())"
   ]
  },
  {
   "cell_type": "code",
   "execution_count": 12,
   "metadata": {},
   "outputs": [],
   "source": [
    "skew_df.to_csv('Copper_log_transformed.csv')"
   ]
  },
  {
   "cell_type": "markdown",
   "metadata": {},
   "source": [
    "##### *Training the Model*"
   ]
  },
  {
   "cell_type": "code",
   "execution_count": 21,
   "metadata": {},
   "outputs": [
    {
     "data": {
      "text/html": [
       "<div>\n",
       "<style scoped>\n",
       "    .dataframe tbody tr th:only-of-type {\n",
       "        vertical-align: middle;\n",
       "    }\n",
       "\n",
       "    .dataframe tbody tr th {\n",
       "        vertical-align: top;\n",
       "    }\n",
       "\n",
       "    .dataframe thead th {\n",
       "        text-align: right;\n",
       "    }\n",
       "</style>\n",
       "<table border=\"1\" class=\"dataframe\">\n",
       "  <thead>\n",
       "    <tr style=\"text-align: right;\">\n",
       "      <th></th>\n",
       "      <th>item_date</th>\n",
       "      <th>country</th>\n",
       "      <th>item type</th>\n",
       "      <th>application</th>\n",
       "      <th>thickness</th>\n",
       "      <th>width</th>\n",
       "      <th>product_ref</th>\n",
       "      <th>delivery date</th>\n",
       "      <th>quantity_tons</th>\n",
       "    </tr>\n",
       "  </thead>\n",
       "  <tbody>\n",
       "    <tr>\n",
       "      <th>80302</th>\n",
       "      <td>2020</td>\n",
       "      <td>26.0</td>\n",
       "      <td>S</td>\n",
       "      <td>10.0</td>\n",
       "      <td>1.386294</td>\n",
       "      <td>7.600902</td>\n",
       "      <td>1670798778</td>\n",
       "      <td>2020</td>\n",
       "      <td>3.258097</td>\n",
       "    </tr>\n",
       "  </tbody>\n",
       "</table>\n",
       "</div>"
      ],
      "text/plain": [
       "       item_date  country item type  application  thickness     width  \\\n",
       "80302       2020     26.0         S         10.0   1.386294  7.600902   \n",
       "\n",
       "       product_ref  delivery date  quantity_tons  \n",
       "80302   1670798778           2020       3.258097  "
      ]
     },
     "execution_count": 21,
     "metadata": {},
     "output_type": "execute_result"
    }
   ],
   "source": [
    "x1 = skew_df.drop(['selling_price','status'],axis = 1)\n",
    "y1 = skew_df['selling_price']\n",
    "\n",
    "x_train1,x_test1,y_train1,y_test1 = train_test_split(x1,y1,test_size=0.25,random_state=42)\n",
    "x_train1.sample()"
   ]
  },
  {
   "cell_type": "code",
   "execution_count": 22,
   "metadata": {},
   "outputs": [],
   "source": [
    "trans1 = ColumnTransformer([\n",
    "    ('trans1',OrdinalEncoder(categories=[[1995,2020,2021],[2020,2021]]),[0,7]),\n",
    "    ('trans2',OneHotEncoder(sparse_output = False,handle_unknown = 'ignore'),[1,2,3,6])], remainder = 'passthrough')\n",
    "\n",
    "trans2 = RandomForestRegressor(n_estimators=100,random_state=42)\n",
    "\n",
    "trans3 = XGBRegressor()\n",
    "\n",
    "trans4 = HistGradientBoostingRegressor(max_depth = 5,categorical_features = [0,1,2,3,6,7],random_state=42)\n",
    "\n",
    "trans5 = ExtraTreesRegressor(n_estimators=100,max_depth = 5)\n",
    "\n",
    "pipe = Pipeline([\n",
    "    ('trans1',trans1),\n",
    "    ('trans2',trans2)\n",
    "])\n",
    "\n",
    "\n",
    "pipe_1 = Pipeline([\n",
    "    ('trans1',trans1),\n",
    "    ('trans3',trans3)\n",
    "])\n",
    "\n",
    "pipe_2 = Pipeline([\n",
    "    ('trans1',trans1),\n",
    "    ('trans4',trans4)\n",
    "])\n",
    "\n",
    "pipe_3 = Pipeline([\n",
    "    ('trans1',trans1),\n",
    "    ('trans5',trans5)\n",
    "])"
   ]
  },
  {
   "cell_type": "code",
   "execution_count": 23,
   "metadata": {},
   "outputs": [],
   "source": [
    "# Random forest regressor\n",
    "result = pipe.fit(x_train1,y_train1)\n",
    "\n",
    "# Xgboost\n",
    "result_1 = pipe_1.fit(x_train1,y_train1)\n",
    "\n",
    "# HistGradientBoostingRegressor\n",
    "result_2 = pipe_2.fit(x_train1,y_train1)\n",
    "\n",
    "# ExtraTreesRegressor\n",
    "result_3 = pipe_3.fit(x_train1,y_train1)"
   ]
  },
  {
   "cell_type": "markdown",
   "metadata": {},
   "source": [
    "##### *Prediction*"
   ]
  },
  {
   "cell_type": "code",
   "execution_count": 24,
   "metadata": {},
   "outputs": [],
   "source": [
    "# Random forest regressor\n",
    "y_pred = pipe.predict(x_test1)\n",
    "\n",
    "# Xgboost\n",
    "y_pred_1 = pipe_1.predict(x_test1)\n",
    "\n",
    "# HistGradientBoostingRegressor\n",
    "y_pred_2 = pipe_2.predict(x_test1)\n",
    "\n",
    "# ExtraTreeRegressor\n",
    "y_pred_3 = pipe_3.predict(x_test1)"
   ]
  },
  {
   "cell_type": "markdown",
   "metadata": {},
   "source": [
    "##### Evaluation Metrics"
   ]
  },
  {
   "cell_type": "code",
   "execution_count": 25,
   "metadata": {},
   "outputs": [
    {
     "name": "stdout",
     "output_type": "stream",
     "text": [
      "R-squared (R2): 0.8915284158110927\n",
      "R-squared (R2): 0.8860394511560808\n",
      "R-squared (R2): 0.8868001273164166\n",
      "R-squared (R2): 0.8064224440008776\n"
     ]
    }
   ],
   "source": [
    "# Random forest regressor\n",
    "r2 = r2_score(y_test1,y_pred)\n",
    "print(f\"R-squared (R2): {r2}\")\n",
    "\n",
    "# Xgboost\n",
    "r2 = r2_score(y_test1,y_pred_1)\n",
    "print(f\"R-squared (R2): {r2}\")\n",
    "\n",
    "# HistGradientBoostingRegressor\n",
    "r2 = r2_score(y_test1,y_pred_2)\n",
    "print(f\"R-squared (R2): {r2}\")\n",
    "\n",
    "# ExtraTreeRegressor\n",
    "r2 = r2_score(y_test1,y_pred_3)\n",
    "print(f\"R-squared (R2): {r2}\")"
   ]
  },
  {
   "cell_type": "markdown",
   "metadata": {},
   "source": [
    "##### *User Prediction*"
   ]
  },
  {
   "cell_type": "code",
   "execution_count": 16,
   "metadata": {},
   "outputs": [],
   "source": [
    "# Real world Prediction\n",
    "\n",
    "item_year = 2021\n",
    "country = 32\n",
    "status = 'Lost'\n",
    "item_type = 'W'\n",
    "application = 10\n",
    "product_ref = 1670798778\n",
    "delivery_year = 2021\n",
    "\n",
    "thickness = 0.75\n",
    "log_thickness = np.log(thickness)\n",
    "\n",
    "width = 1000\n",
    "log_width = np.log(width)\n",
    "\n",
    "quantity_tons = 20\n",
    "log_quantity = np.log(quantity_tons)"
   ]
  },
  {
   "cell_type": "code",
   "execution_count": 26,
   "metadata": {},
   "outputs": [
    {
     "data": {
      "text/html": [
       "<div>\n",
       "<style scoped>\n",
       "    .dataframe tbody tr th:only-of-type {\n",
       "        vertical-align: middle;\n",
       "    }\n",
       "\n",
       "    .dataframe tbody tr th {\n",
       "        vertical-align: top;\n",
       "    }\n",
       "\n",
       "    .dataframe thead th {\n",
       "        text-align: right;\n",
       "    }\n",
       "</style>\n",
       "<table border=\"1\" class=\"dataframe\">\n",
       "  <thead>\n",
       "    <tr style=\"text-align: right;\">\n",
       "      <th></th>\n",
       "      <th>item_date</th>\n",
       "      <th>country</th>\n",
       "      <th>item type</th>\n",
       "      <th>application</th>\n",
       "      <th>thickness</th>\n",
       "      <th>width</th>\n",
       "      <th>product_ref</th>\n",
       "      <th>delivery date</th>\n",
       "      <th>quantity_tons</th>\n",
       "    </tr>\n",
       "  </thead>\n",
       "  <tbody>\n",
       "    <tr>\n",
       "      <th>0</th>\n",
       "      <td>2021</td>\n",
       "      <td>32</td>\n",
       "      <td>W</td>\n",
       "      <td>10</td>\n",
       "      <td>-0.287682</td>\n",
       "      <td>6.907755</td>\n",
       "      <td>1670798778</td>\n",
       "      <td>2021</td>\n",
       "      <td>20</td>\n",
       "    </tr>\n",
       "  </tbody>\n",
       "</table>\n",
       "</div>"
      ],
      "text/plain": [
       "   item_date  country item type  application  thickness     width  \\\n",
       "0       2021       32         W           10  -0.287682  6.907755   \n",
       "\n",
       "   product_ref  delivery date  quantity_tons  \n",
       "0   1670798778           2021             20  "
      ]
     },
     "execution_count": 26,
     "metadata": {},
     "output_type": "execute_result"
    }
   ],
   "source": [
    "user_input = pd.DataFrame([[item_year,country,item_type,application,log_thickness,log_width,product_ref,delivery_year,quantity_tons]],\n",
    "                          columns = ['item_date','country','item type','application','thickness','width','product_ref','delivery date','quantity_tons'])\n",
    "user_input"
   ]
  },
  {
   "cell_type": "code",
   "execution_count": 27,
   "metadata": {},
   "outputs": [
    {
     "data": {
      "text/plain": [
       "array([6.75652757])"
      ]
     },
     "execution_count": 27,
     "metadata": {},
     "output_type": "execute_result"
    }
   ],
   "source": [
    "prediction = pipe.predict(user_input)\n",
    "prediction"
   ]
  },
  {
   "cell_type": "code",
   "execution_count": 28,
   "metadata": {},
   "outputs": [
    {
     "data": {
      "text/plain": [
       "array([859.65192275])"
      ]
     },
     "execution_count": 28,
     "metadata": {},
     "output_type": "execute_result"
    }
   ],
   "source": [
    "np.exp(prediction)"
   ]
  },
  {
   "cell_type": "markdown",
   "metadata": {},
   "source": [
    "##### *Saving the model*"
   ]
  },
  {
   "cell_type": "code",
   "execution_count": 29,
   "metadata": {},
   "outputs": [],
   "source": [
    "pickle.dump(pipe,open('price_prediction.pkl','wb'))"
   ]
  }
 ],
 "metadata": {
  "kernelspec": {
   "display_name": "Python 3",
   "language": "python",
   "name": "python3"
  },
  "language_info": {
   "codemirror_mode": {
    "name": "ipython",
    "version": 3
   },
   "file_extension": ".py",
   "mimetype": "text/x-python",
   "name": "python",
   "nbconvert_exporter": "python",
   "pygments_lexer": "ipython3",
   "version": "3.11.3"
  },
  "orig_nbformat": 4
 },
 "nbformat": 4,
 "nbformat_minor": 2
}
